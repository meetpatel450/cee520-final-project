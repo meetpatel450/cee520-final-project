{
  "cells": [
    {
      "cell_type": "markdown",
      "metadata": {
        "id": "bOugBCzBgo-D"
      },
      "source": [
        "Preliminary Data Analysis on selected city networks from https://github.com/bstabler/TransportationNetworks.\n",
        "\n",
        "Degree distribution, diameter, and clustering coefficient will be calculated"
      ]
    },
    {
      "cell_type": "markdown",
      "metadata": {
        "id": "uPIQthLdpG_6"
      },
      "source": [
        "#Imports"
      ]
    },
    {
      "cell_type": "code",
      "execution_count": 1,
      "metadata": {
        "id": "A4STaLtBpGma"
      },
      "outputs": [],
      "source": [
        "import pandas as pd\n",
        "import networkx as nx\n",
        "import matplotlib.pyplot as plt\n",
        "import numpy as np"
      ]
    },
    {
      "cell_type": "markdown",
      "metadata": {
        "id": "zgv3F5bqpJ43"
      },
      "source": [
        "# Importing Data"
      ]
    },
    {
      "cell_type": "code",
      "execution_count": 2,
      "metadata": {
        "colab": {
          "base_uri": "https://localhost:8080/",
          "height": 321
        },
        "id": "xmtW02Wlp9d_",
        "outputId": "c0019f53-0eb3-4d71-f692-4a2e0dc189f5"
      },
      "outputs": [],
      "source": [
        "Sydney = pd.read_csv(\"Sydney.csv\")\n",
        "SiouxFalls = pd.read_csv(\"SiouxFalls.csv\")\n",
        "Anaheim = pd.read_csv(\"Anaheim.csv\")"
      ]
    },
    {
      "cell_type": "code",
      "execution_count": 3,
      "metadata": {
        "id": "_q-TPa9yVyD9"
      },
      "outputs": [],
      "source": [
        "# Meet's stuff\n",
        "Sydney = pd.read_csv(\"Sydney.csv\")\n",
        "SiouxFalls = pd.read_csv(\"SiouxFalls.csv\")\n",
        "Anaheim = pd.read_csv(\"Anaheim.csv\")"
      ]
    },
    {
      "cell_type": "code",
      "execution_count": 4,
      "metadata": {
        "colab": {
          "base_uri": "https://localhost:8080/",
          "height": 206
        },
        "id": "uHx5BDSSrboU",
        "outputId": "9ef6dfea-294b-46fd-f9a9-055e78fdd6eb"
      },
      "outputs": [
        {
          "data": {
            "text/html": [
              "<div>\n",
              "<style scoped>\n",
              "    .dataframe tbody tr th:only-of-type {\n",
              "        vertical-align: middle;\n",
              "    }\n",
              "\n",
              "    .dataframe tbody tr th {\n",
              "        vertical-align: top;\n",
              "    }\n",
              "\n",
              "    .dataframe thead th {\n",
              "        text-align: right;\n",
              "    }\n",
              "</style>\n",
              "<table border=\"1\" class=\"dataframe\">\n",
              "  <thead>\n",
              "    <tr style=\"text-align: right;\">\n",
              "      <th></th>\n",
              "      <th>Unnamed: 0</th>\n",
              "      <th>init_node</th>\n",
              "      <th>term_node</th>\n",
              "      <th>capacity</th>\n",
              "      <th>length</th>\n",
              "      <th>free_flow_time</th>\n",
              "      <th>b</th>\n",
              "      <th>power</th>\n",
              "      <th>speed</th>\n",
              "      <th>critical_speed</th>\n",
              "      <th>lanes</th>\n",
              "    </tr>\n",
              "  </thead>\n",
              "  <tbody>\n",
              "    <tr>\n",
              "      <th>0</th>\n",
              "      <td>0</td>\n",
              "      <td>1</td>\n",
              "      <td>6706</td>\n",
              "      <td>2880</td>\n",
              "      <td>0.904</td>\n",
              "      <td>2.26</td>\n",
              "      <td>0.25</td>\n",
              "      <td>4</td>\n",
              "      <td>24</td>\n",
              "      <td>19.2</td>\n",
              "      <td>2</td>\n",
              "    </tr>\n",
              "    <tr>\n",
              "      <th>1</th>\n",
              "      <td>1</td>\n",
              "      <td>2</td>\n",
              "      <td>33087</td>\n",
              "      <td>2880</td>\n",
              "      <td>0.027</td>\n",
              "      <td>0.07</td>\n",
              "      <td>0.25</td>\n",
              "      <td>4</td>\n",
              "      <td>24</td>\n",
              "      <td>19.2</td>\n",
              "      <td>2</td>\n",
              "    </tr>\n",
              "    <tr>\n",
              "      <th>2</th>\n",
              "      <td>2</td>\n",
              "      <td>3</td>\n",
              "      <td>30799</td>\n",
              "      <td>2880</td>\n",
              "      <td>0.257</td>\n",
              "      <td>0.64</td>\n",
              "      <td>0.25</td>\n",
              "      <td>4</td>\n",
              "      <td>24</td>\n",
              "      <td>19.2</td>\n",
              "      <td>2</td>\n",
              "    </tr>\n",
              "    <tr>\n",
              "      <th>3</th>\n",
              "      <td>3</td>\n",
              "      <td>4</td>\n",
              "      <td>30800</td>\n",
              "      <td>2880</td>\n",
              "      <td>0.123</td>\n",
              "      <td>0.31</td>\n",
              "      <td>0.25</td>\n",
              "      <td>4</td>\n",
              "      <td>24</td>\n",
              "      <td>19.2</td>\n",
              "      <td>2</td>\n",
              "    </tr>\n",
              "    <tr>\n",
              "      <th>4</th>\n",
              "      <td>4</td>\n",
              "      <td>5</td>\n",
              "      <td>6692</td>\n",
              "      <td>2880</td>\n",
              "      <td>0.068</td>\n",
              "      <td>0.17</td>\n",
              "      <td>0.25</td>\n",
              "      <td>4</td>\n",
              "      <td>24</td>\n",
              "      <td>19.2</td>\n",
              "      <td>2</td>\n",
              "    </tr>\n",
              "  </tbody>\n",
              "</table>\n",
              "</div>"
            ],
            "text/plain": [
              "   Unnamed: 0  init_node  term_node  capacity  length  free_flow_time     b  \\\n",
              "0           0          1       6706      2880   0.904            2.26  0.25   \n",
              "1           1          2      33087      2880   0.027            0.07  0.25   \n",
              "2           2          3      30799      2880   0.257            0.64  0.25   \n",
              "3           3          4      30800      2880   0.123            0.31  0.25   \n",
              "4           4          5       6692      2880   0.068            0.17  0.25   \n",
              "\n",
              "   power  speed  critical_speed  lanes  \n",
              "0      4     24            19.2      2  \n",
              "1      4     24            19.2      2  \n",
              "2      4     24            19.2      2  \n",
              "3      4     24            19.2      2  \n",
              "4      4     24            19.2      2  "
            ]
          },
          "execution_count": 4,
          "metadata": {},
          "output_type": "execute_result"
        }
      ],
      "source": [
        "Sydney.head()"
      ]
    },
    {
      "cell_type": "code",
      "execution_count": 7,
      "metadata": {
        "id": "opNrYxPXsO3F"
      },
      "outputs": [],
      "source": [
        "# Turns sydney into a graph object\n",
        "ana_net = nx.Graph()\n",
        "\n",
        "# Add edges with attributes\n",
        "for idx, row in Anaheim.iterrows():\n",
        "    ana_net.add_edge(row['init_node'], row['term_node'], **row.drop(['init_node', 'term_node']).to_dict())"
      ]
    },
    {
      "cell_type": "markdown",
      "metadata": {
        "id": "hl6TE5_qhK09"
      },
      "source": [
        "# Functions"
      ]
    },
    {
      "cell_type": "code",
      "execution_count": 8,
      "metadata": {
        "id": "84f99r--gl-L"
      },
      "outputs": [],
      "source": [
        "def analyze_graph(G):\n",
        "    # Check if the graph is connected; this is required to compute the diameter\n",
        "    if nx.is_connected(G):\n",
        "        diameter = nx.diameter(G)\n",
        "        print(f\"Diameter of the graph: {diameter}\")\n",
        "    else:\n",
        "        print(\"Graph is not connected; diameter of the giant component will be calculated.\")\n",
        "        # Find the largest connected component (giant component)\n",
        "        giant_component = max(nx.connected_components(G), key=len)\n",
        "        G_giant = G.subgraph(giant_component).copy()\n",
        "\n",
        "        # Diameter of the giant component\n",
        "        diameter = nx.diameter(G_giant)\n",
        "        print(f\"Diameter of the giant component: {diameter}\")\n",
        "\n",
        "\n",
        "    # Average Clustering Coefficient\n",
        "    avg_clustering = nx.average_clustering(G)\n",
        "    print(f\"Average Clustering Coefficient: {avg_clustering}\")\n",
        "\n",
        "    # Degree Distribution\n",
        "    degrees = [G.degree(n) for n in G.nodes()]\n",
        "    degree_counts = np.bincount(degrees)\n",
        "    plt.figure(figsize=(10, 6))\n",
        "    plt.bar(range(len(degree_counts)), degree_counts, width=0.80, color='b')\n",
        "    plt.title(\"Degree Distribution\")\n",
        "    plt.xlabel(\"Degree\")\n",
        "    plt.ylabel(\"Frequency\")\n",
        "    plt.show()"
      ]
    },
    {
      "cell_type": "markdown",
      "metadata": {
        "id": "n2voLmtDtQRW"
      },
      "source": [
        "# Sydney"
      ]
    },
    {
      "cell_type": "code",
      "execution_count": 9,
      "metadata": {
        "id": "gqxJ0M8WtRov"
      },
      "outputs": [
        {
          "name": "stdout",
          "output_type": "stream",
          "text": [
            "Diameter of the graph: 26\n",
            "Average Clustering Coefficient: 0.10764652014652022\n"
          ]
        },
        {
          "data": {
            "image/png": "[encoded data removed]",
            "text/plain": [
              "<Figure size 1000x600 with 1 Axes>"
            ]
          },
          "metadata": {},
          "output_type": "display_data"
        }
      ],
      "source": [
        "analyze_graph(ana_net)"
      ]
    },
    {
      "cell_type": "code",
      "execution_count": null,
      "metadata": {},
      "outputs": [],
      "source": []
    }
  ],
  "metadata": {
    "colab": {
      "provenance": []
    },
    "kernelspec": {
      "display_name": "Python 3",
      "name": "python3"
    },
    "language_info": {
      "codemirror_mode": {
        "name": "ipython",
        "version": 3
      },
      "file_extension": ".py",
      "mimetype": "text/x-python",
      "name": "python",
      "nbconvert_exporter": "python",
      "pygments_lexer": "ipython3",
      "version": "3.8.12"
    }
  },
  "nbformat": 4,
  "nbformat_minor": 0
}
